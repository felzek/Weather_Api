{
 "cells": [
  {
   "cell_type": "code",
   "execution_count": 4,
   "metadata": {
    "collapsed": true
   },
   "outputs": [],
   "source": [
    "import requests\n",
    "import json\n",
    "import matplotlib.pyplot as plt\n",
    "import requests as req\n",
    "import pandas as pd\n",
    "import json\n",
    "import random\n",
    "from config import apikey\n",
    "from citipy import citipy\n",
    "import openweathermapy.core as ow\n",
    "%matplotlib inline"
   ]
  },
  {
   "cell_type": "code",
   "execution_count": 21,
   "metadata": {
    "collapsed": true
   },
   "outputs": [],
   "source": [
    "\n",
    "lat = []\n",
    "lon = []\n",
    "cities = set([])\n",
    "\n",
    "\n",
    "while len(cities) < 500:\n",
    "    lati = (random.randrange(-90,90,1))\n",
    "    long = (random.randrange(-180,180,1))\n",
    "    city = citipy.nearest_city(lati,long)\n",
    "    city = city.city_name\n",
    "    lat.append(lati)\n",
    "    lon.append(long)\n",
    "    cities.add(city)\n",
    "\n",
    "my_list = list(cities)"
   ]
  },
  {
   "cell_type": "code",
   "execution_count": 26,
   "metadata": {},
   "outputs": [
    {
     "ename": "SyntaxError",
     "evalue": "'continue' not properly in loop (<ipython-input-26-d1bcd05e8d63>, line 12)",
     "output_type": "error",
     "traceback": [
      "\u001b[0;36m  File \u001b[0;32m\"<ipython-input-26-d1bcd05e8d63>\"\u001b[0;36m, line \u001b[0;32m12\u001b[0m\n\u001b[0;31m    continue\u001b[0m\n\u001b[0m    ^\u001b[0m\n\u001b[0;31mSyntaxError\u001b[0m\u001b[0;31m:\u001b[0m 'continue' not properly in loop\n"
     ]
    }
   ],
   "source": [
    "settings = {\"units\": \"Imperial\", \"appid\": apikey}\n",
    "\n",
    "try:\n",
    "    weather_data = [ow.get_current(city, **settings) for city in cities]\n",
    "\n",
    "    summary = ['main.temp',\"coord.lat\", \"coord.lon\",'sys.country','wind.speed']\n",
    "\n",
    "    data = [response(*summary) for response in weather_data]\n",
    "\n",
    "\n",
    "except:\n",
    "       continue\n",
    "\n",
    "\n",
    "\n",
    "column_names = [\"Temperature\", \"Latitude\", \"Longitude\",'Country','Wind Speed (mph)']\n",
    "weather_data = pd.DataFrame(data, index=cities, columns=column_names)\n",
    "weather_data\n",
    "    "
   ]
  },
  {
   "cell_type": "code",
   "execution_count": 3,
   "metadata": {},
   "outputs": [
    {
     "data": {
      "text/plain": [
       "[{'base': 'stations',\n",
       "  'clouds': {'all': 44},\n",
       "  'cod': 200,\n",
       "  'coord': {'lat': 59.38, 'lon': 143.3},\n",
       "  'dt': 1510713758,\n",
       "  'id': 2122605,\n",
       "  'main': {'grnd_level': 1010.18,\n",
       "   'humidity': 100,\n",
       "   'pressure': 1010.18,\n",
       "   'sea_level': 1017.21,\n",
       "   'temp': 3.26,\n",
       "   'temp_max': 3.26,\n",
       "   'temp_min': 3.26},\n",
       "  'name': 'Okhotsk',\n",
       "  'sys': {'country': 'RU',\n",
       "   'message': 0.1643,\n",
       "   'sunrise': 1510698035,\n",
       "   'sunset': 1510725682},\n",
       "  'weather': [{'description': 'scattered clouds',\n",
       "    'icon': '03d',\n",
       "    'id': 802,\n",
       "    'main': 'Clouds'}],\n",
       "  'wind': {'deg': 345.002, 'speed': 10.42}},\n",
       " {'base': 'stations',\n",
       "  'clouds': {'all': 20},\n",
       "  'cod': 200,\n",
       "  'coord': {'lat': 22.08, 'lon': -159.32},\n",
       "  'dt': 1510710960,\n",
       "  'id': 5848280,\n",
       "  'main': {'humidity': 74,\n",
       "   'pressure': 1016,\n",
       "   'temp': 78.8,\n",
       "   'temp_max': 78.8,\n",
       "   'temp_min': 78.8},\n",
       "  'name': 'Kapaa',\n",
       "  'sys': {'country': 'US',\n",
       "   'id': 833,\n",
       "   'message': 0.1651,\n",
       "   'sunrise': 1510764578,\n",
       "   'sunset': 1510804446,\n",
       "   'type': 1},\n",
       "  'visibility': 16093,\n",
       "  'weather': [{'description': 'few clouds',\n",
       "    'icon': '02n',\n",
       "    'id': 801,\n",
       "    'main': 'Clouds'}],\n",
       "  'wind': {'deg': 40, 'speed': 18.34}},\n",
       " {'base': 'stations',\n",
       "  'clouds': {'all': 76},\n",
       "  'cod': 200,\n",
       "  'coord': {'lat': 34.17, 'lon': 77.58},\n",
       "  'dt': 1510713759,\n",
       "  'id': 1264976,\n",
       "  'main': {'grnd_level': 603.99,\n",
       "   'humidity': 83,\n",
       "   'pressure': 603.99,\n",
       "   'sea_level': 1034.96,\n",
       "   'temp': 2.99,\n",
       "   'temp_max': 2.99,\n",
       "   'temp_min': 2.99},\n",
       "  'name': 'Leh',\n",
       "  'sys': {'country': 'IN',\n",
       "   'message': 0.1742,\n",
       "   'sunrise': 1510708945,\n",
       "   'sunset': 1510746345},\n",
       "  'weather': [{'description': 'broken clouds',\n",
       "    'icon': '04d',\n",
       "    'id': 803,\n",
       "    'main': 'Clouds'}],\n",
       "  'wind': {'deg': 149.002, 'speed': 1.32}}]"
      ]
     },
     "execution_count": 3,
     "metadata": {},
     "output_type": "execute_result"
    }
   ],
   "source": [
    "\n",
    "\n",
    "url = \"http://api.openweathermap.org/data/2.5/weather?APPID=\"\n",
    "units = 'IMPERIAL'\n",
    "\n",
    "weather_data = []\n",
    "\n",
    "\n",
    "\n",
    "\n",
    "target_url = url + apikey + \"&units=\" + units + '&q='\n",
    "\n",
    "for city in my_list:\n",
    "    \n",
    "    response = requests.get(target_url + city).json()\n",
    "    weather_data.append(response)\n",
    "\n",
    "weather_data"
   ]
  },
  {
   "cell_type": "code",
   "execution_count": 9,
   "metadata": {},
   "outputs": [
    {
     "data": {
      "text/html": [
       "<div>\n",
       "<style>\n",
       "    .dataframe thead tr:only-child th {\n",
       "        text-align: right;\n",
       "    }\n",
       "\n",
       "    .dataframe thead th {\n",
       "        text-align: left;\n",
       "    }\n",
       "\n",
       "    .dataframe tbody tr th {\n",
       "        vertical-align: top;\n",
       "    }\n",
       "</style>\n",
       "<table border=\"1\" class=\"dataframe\">\n",
       "  <thead>\n",
       "    <tr style=\"text-align: right;\">\n",
       "      <th></th>\n",
       "      <th>City Name</th>\n",
       "      <th>Longtitude</th>\n",
       "      <th>Latitude</th>\n",
       "      <th>Temperature (F)</th>\n",
       "      <th>Humidity (%)</th>\n",
       "      <th>Cloudiness (%)</th>\n",
       "      <th>Wind Speed (mph)</th>\n",
       "    </tr>\n",
       "  </thead>\n",
       "  <tbody>\n",
       "  </tbody>\n",
       "</table>\n",
       "</div>"
      ],
      "text/plain": [
       "Empty DataFrame\n",
       "Columns: [City Name, Longtitude, Latitude, Temperature (F), Humidity (%), Cloudiness (%), Wind Speed (mph)]\n",
       "Index: []"
      ]
     },
     "execution_count": 9,
     "metadata": {},
     "output_type": "execute_result"
    }
   ],
   "source": [
    "pd.DataFrame('City Name':,columns= ('Longtitude','Latitude','Temperature (F)','Humidity (%)','Cloudiness (%)','Wind Speed (mph)'))"
   ]
  },
  {
   "cell_type": "code",
   "execution_count": null,
   "metadata": {
    "collapsed": true
   },
   "outputs": [],
   "source": []
  }
 ],
 "metadata": {
  "kernelspec": {
   "display_name": "Python 3",
   "language": "python",
   "name": "python3"
  },
  "language_info": {
   "codemirror_mode": {
    "name": "ipython",
    "version": 3
   },
   "file_extension": ".py",
   "mimetype": "text/x-python",
   "name": "python",
   "nbconvert_exporter": "python",
   "pygments_lexer": "ipython3",
   "version": "3.6.1"
  }
 },
 "nbformat": 4,
 "nbformat_minor": 2
}
